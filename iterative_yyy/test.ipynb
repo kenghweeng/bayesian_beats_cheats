{
 "cells": [
  {
   "cell_type": "code",
   "execution_count": 1,
   "id": "616ab946-1fa3-4c9f-bf16-10240eeac4b7",
   "metadata": {},
   "outputs": [],
   "source": [
    "import os\n",
    "import networkx as nx\n",
    "import pandas as pd\n",
    "from sklearn.model_selection import train_test_split\n",
    "from sklearn.linear_model import LogisticRegression\n",
    "from sklearn.metrics import accuracy_score\n",
    "from collective.constants import get_summary_zv\n",
    "from collective.Iterative import IterativeClassification"
   ]
  },
  {
   "cell_type": "code",
   "execution_count": 5,
   "id": "9e04ac2b-29e1-4fab-a089-8526097822f4",
   "metadata": {},
   "outputs": [],
   "source": [
    "data_dir = \"data/cora\"\n",
    "edgelist = pd.read_csv(os.path.join(data_dir, \"cora.cites\"),\n",
    "                       sep='\\t', header=None, names=[\"target\", \"source\"])\n",
    "\n",
    "Gnx = nx.from_pandas_edgelist(edgelist, create_using=nx.Graph)\n",
    "\n",
    "feature_names = [\"w_{}\".format(ii) for ii in range(1433)]\n",
    "column_names = feature_names + [\"subject\"]\n",
    "node_data = pd.read_csv(os.path.join(\n",
    "    data_dir, \"cora.content\"), sep='\\t', header=None, names=column_names)\n",
    "node_data['label'] = node_data['subject'].apply(\n",
    "    lambda x: 1 if x == 'Theory' else 0)\n",
    "node_data = node_data.loc[:, node_data.columns != 'subject']\n",
    "nx.set_node_attributes(Gnx, node_data.to_dict('index'))"
   ]
  },
  {
   "cell_type": "code",
   "execution_count": 6,
   "id": "16c05a08-ac31-480d-8b4f-a8cb0392f3dd",
   "metadata": {},
   "outputs": [
    {
     "name": "stdout",
     "output_type": "stream",
     "text": [
      "Anyhow setting edge weights\n"
     ]
    }
   ],
   "source": [
    "print(\"Anyhow setting edge weights\")\n",
    "for edge in Gnx.edges:\n",
    "    Gnx[edge[0]][edge[1]]['edge_weight'] = 1"
   ]
  },
  {
   "cell_type": "code",
   "execution_count": 7,
   "id": "59e9668e-1185-4441-9259-4faafcff9eb1",
   "metadata": {},
   "outputs": [
    {
     "name": "stdout",
     "output_type": "stream",
     "text": [
      "Getting zv\n",
      "Getting dataframe from node attributes\n"
     ]
    }
   ],
   "source": [
    "print(\"Getting zv\")\n",
    "Gnx = get_summary_zv(Gnx)\n",
    "\n",
    "print(\"Getting dataframe from node attributes\")\n",
    "df = pd.DataFrame()\n",
    "for node in Gnx.nodes:\n",
    "    Gnx.nodes[node]['index'] = node\n",
    "    temp = pd.DataFrame([Gnx.nodes[node]]).set_index('index')\n",
    "    df = pd.concat([df, temp])"
   ]
  },
  {
   "cell_type": "code",
   "execution_count": 10,
   "id": "2dcecbc2-4715-47e4-8d00-f7ad8658fcdd",
   "metadata": {},
   "outputs": [
    {
     "name": "stdout",
     "output_type": "stream",
     "text": [
      "Doing train-test-split\n",
      "Training model1\n",
      "Training model2\n",
      "Iterative classification\n",
      "In step 2 of iterative classification\n",
      "In step 3 of iterative classification\n",
      "At iteration 0\n",
      "At iteration 0\n",
      "At iteration 1\n",
      "At iteration 2\n",
      "At iteration 3\n",
      "At iteration 4\n"
     ]
    }
   ],
   "source": [
    "print(\"Doing train-test-split\")\n",
    "train, test = train_test_split(df, test_size=0.2)\n",
    "\n",
    "# model1\n",
    "print(\"Training model1\")\n",
    "train_x_model1 = train.drop(['L1_max', 'L0_max', 'L1_mean', 'L0_mean', 'label'], axis=1)\n",
    "train_y_model1 = train['label']\n",
    "test_x_model1 = test.drop(['L1_max', 'L0_max', 'L1_mean', 'L0_mean', 'label'], axis=1)\n",
    "test_y_model1 = test['label']\n",
    "model1 = LogisticRegression()\n",
    "model1.fit(train_x_model1, train_y_model1)\n",
    "y_pred1 = model1.predict(test_x_model1)\n",
    "\n",
    "accuracy_score(test_y_model1.to_numpy(), y_pred1)\n",
    "\n",
    "# model2\n",
    "print(\"Training model2\")\n",
    "train_x_model2 = train.drop(['label'], axis=1)\n",
    "train_y_model2 = train['label']\n",
    "test_x_model2 = test.drop(['label'], axis=1)\n",
    "test_y_model2 = test['label']\n",
    "model2 = LogisticRegression()\n",
    "model2.fit(train_x_model2, train_y_model2)\n",
    "y_pred2 = model2.predict(test_x_model2)\n",
    "\n",
    "accuracy_score(test_y_model2.to_numpy(), y_pred2)\n",
    "\n",
    "print(\"Iterative classification\")\n",
    "ic = IterativeClassification(max_iterations = 5)\n",
    "new_gnx = ic.predict(Gnx, model1, model2)"
   ]
  },
  {
   "cell_type": "code",
   "execution_count": 11,
   "id": "f86fb0bb-565f-4fbb-8154-b4279f2aa0c7",
   "metadata": {},
   "outputs": [
    {
     "name": "stdout",
     "output_type": "stream",
     "text": [
      "0.9206642066420664\n"
     ]
    }
   ],
   "source": [
    "new_gnx_pred = pd.DataFrame([])\n",
    "for node in test['label'].index:\n",
    "    temp = pd.DataFrame([[new_gnx.nodes[node]['label'][0], node]], columns=[\n",
    "                        'label', 'index']).set_index('index')\n",
    "    new_gnx_pred = pd.concat([new_gnx_pred, temp])\n",
    "\n",
    "print(accuracy_score(test_y_model2.to_numpy(), new_gnx_pred.to_numpy()))"
   ]
  },
  {
   "cell_type": "code",
   "execution_count": null,
   "id": "1220f0ec-bbf1-4ac4-93fc-f5d7a0dfd9fd",
   "metadata": {},
   "outputs": [],
   "source": []
  }
 ],
 "metadata": {
  "kernelspec": {
   "display_name": "Python 3",
   "language": "python",
   "name": "python3"
  },
  "language_info": {
   "codemirror_mode": {
    "name": "ipython",
    "version": 3
   },
   "file_extension": ".py",
   "mimetype": "text/x-python",
   "name": "python",
   "nbconvert_exporter": "python",
   "pygments_lexer": "ipython3",
   "version": "3.8.5"
  }
 },
 "nbformat": 4,
 "nbformat_minor": 5
}
