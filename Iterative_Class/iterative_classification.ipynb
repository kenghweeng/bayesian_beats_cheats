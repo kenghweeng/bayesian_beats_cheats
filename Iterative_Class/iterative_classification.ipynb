{
 "cells": [
  {
   "cell_type": "code",
   "execution_count": 1,
   "id": "alpha-pricing",
   "metadata": {},
   "outputs": [],
   "source": [
    "import pandas as pd\n",
    "import numpy as np\n",
    "import preprocess\n",
    "from sklearn.model_selection import train_test_split\n",
    "from iterative_classifier import IterativeClassifier\n",
    "from sklearn.metrics import classification_report, confusion_matrix"
   ]
  },
  {
   "cell_type": "markdown",
   "id": "suburban-madness",
   "metadata": {},
   "source": [
    "### Extract numerical features from the csv file"
   ]
  },
  {
   "cell_type": "code",
   "execution_count": 2,
   "id": "turkish-tactics",
   "metadata": {},
   "outputs": [],
   "source": [
    "df = pd.read_csv('../data/imputed_unified_node_data.csv').drop(columns=['confessed_assignments'])\n",
    "names = df['name'].values.tolist()\n",
    "\n",
    "temp = df.values.tolist()\n",
    "for i in range(len(temp)):\n",
    "    if temp[i][21] > 0:\n",
    "        temp[i][21] = 1\n",
    "df = pd.DataFrame(temp, columns=df.columns)"
   ]
  },
  {
   "cell_type": "markdown",
   "id": "bigger-shaft",
   "metadata": {},
   "source": [
    "### Generate edge weight list (avg/max/min)"
   ]
  },
  {
   "cell_type": "code",
   "execution_count": 3,
   "id": "reverse-liberal",
   "metadata": {},
   "outputs": [],
   "source": [
    "avg_edge_weights = pd.read_csv('../data/avg_edge_weights.csv', keep_default_na=False).to_numpy()\n",
    "max_edge_weights = pd.read_csv('../data/max_edge_weights.csv', keep_default_na=False).to_numpy()\n",
    "min_edge_weights = pd.read_csv('../data/min_edge_weights.csv', keep_default_na=False).to_numpy()\n",
    "\n",
    "# dict: \n",
    "# key - name\n",
    "# value - [destination, avg, max, min]\n",
    "edge_weight = {}\n",
    "for i in range(len(avg_edge_weights)):\n",
    "    source = avg_edge_weights[i][0]\n",
    "    destination = avg_edge_weights[i][1]\n",
    "    if not source in edge_weight:\n",
    "        edge_weight[source] = []\n",
    "    if not destination in edge_weight:\n",
    "        edge_weight[destination] = []\n",
    "    edge_weight[source].append([destination, avg_edge_weights[i][2], max_edge_weights[i][2], min_edge_weights[i][2]])\n",
    "    edge_weight[destination].append([source, avg_edge_weights[i][2], max_edge_weights[i][2], min_edge_weights[i][2]])"
   ]
  },
  {
   "cell_type": "markdown",
   "id": "retained-nicholas",
   "metadata": {},
   "source": [
    "### Split the dataset into training and test set"
   ]
  },
  {
   "cell_type": "code",
   "execution_count": 4,
   "id": "western-sandwich",
   "metadata": {},
   "outputs": [],
   "source": [
    "X_train, X_val, X_test, y_train, y_val, y_test = preprocess.stratified_train_val_test_split(df)\n",
    "\n",
    "train_df = pd.concat([X_train, y_train], axis='columns')\n",
    "train_df = preprocess.downsample(train_df, 'num_confessed_assignments', random_state=0)\n",
    "\n",
    "X_train = train_df.iloc[:, 0:train_df.shape[1]-1].values.tolist()\n",
    "y_train = train_df.iloc[:, train_df.shape[1]-1:].values.flatten().tolist()\n",
    "\n",
    "X_test = pd.concat([X_val, X_test]).values.tolist()\n",
    "y_test = pd.concat([y_val, y_test]).values.tolist()"
   ]
  },
  {
   "cell_type": "code",
   "execution_count": null,
   "id": "virgin-domestic",
   "metadata": {},
   "outputs": [],
   "source": [
    "clf = IterativeClassifier(n_neighbors=9)\n",
    "clf.fit(X_train, edge_weight, y_train)"
   ]
  },
  {
   "cell_type": "code",
   "execution_count": null,
   "id": "advised-electronics",
   "metadata": {},
   "outputs": [],
   "source": [
    "y_predict = clf.predict(X_test, edge_weight, max_iter=1000)\n",
    "print(y_predict)\n",
    "results = []\n",
    "names = []\n",
    "for i in range(len(X_test)):\n",
    "    names.append(X_test[i][0])\n",
    "    num_confessed_assignments = X_test[i][len(X_test[i])-1]\n",
    "    predict_confess = y_predict[i]\n",
    "    results.append([num_confessed_assignments, predict_confess])\n",
    "\n",
    "df = pd.DataFrame(results, index=names,columns=['num_confessed_assignments', 'predict_confess'])\n",
    "df.to_csv('result.csv')"
   ]
  },
  {
   "cell_type": "code",
   "execution_count": 7,
   "id": "occasional-tobago",
   "metadata": {},
   "outputs": [
    {
     "name": "stdout",
     "output_type": "stream",
     "text": [
      "              precision    recall  f1-score   support\n",
      "\n",
      "           0       0.86      0.19      0.31       264\n",
      "           1       0.14      0.82      0.24        44\n",
      "\n",
      "    accuracy                           0.28       308\n",
      "   macro avg       0.50      0.50      0.27       308\n",
      "weighted avg       0.76      0.28      0.30       308\n",
      "\n"
     ]
    }
   ],
   "source": [
    "print(classification_report(y_test, y_predict))"
   ]
  },
  {
   "cell_type": "code",
   "execution_count": 8,
   "id": "invisible-identity",
   "metadata": {},
   "outputs": [
    {
     "name": "stdout",
     "output_type": "stream",
     "text": [
      "[[ 49 215]\n",
      " [  8  36]]\n"
     ]
    }
   ],
   "source": [
    "print(confusion_matrix(y_test, y_predict))"
   ]
  },
  {
   "cell_type": "code",
   "execution_count": null,
   "id": "differential-rover",
   "metadata": {},
   "outputs": [],
   "source": [
    "y_predict = clf.predict_proba(X_test, edge_weight, max_iter=10000)\n",
    "correct = 0\n",
    "for i in range(len(y_predict)):\n",
    "    if y_predict[i][0] > y_predict[i][1] and y_test[i]==0:\n",
    "        correct += 1\n",
    "    elif y_predict[i][0] < y_predict[i][1] and y_test[i]==1:\n",
    "        correct += 1\n",
    "        \n",
    "results = []        \n",
    "for i in range(len(X_test)):\n",
    "    num_confessed_assignments = X_test[i][len(X_test[i])-1]\n",
    "    predict_prob_confess = y_predict[i][1]\n",
    "    results.append([num_confessed_assignments, predict_prob_confess])\n",
    "    \n",
    "results = sorted(results, key=lambda x: x[1], reverse=True)\n",
    "df = pd.DataFrame(results, index=names,columns=['num_confessed_assignments', 'predict_confess_prob'])\n",
    "df.to_csv('result_prob.csv')"
   ]
  }
 ],
 "metadata": {
  "kernelspec": {
   "display_name": "Python 3",
   "language": "python",
   "name": "python3"
  },
  "language_info": {
   "codemirror_mode": {
    "name": "ipython",
    "version": 3
   },
   "file_extension": ".py",
   "mimetype": "text/x-python",
   "name": "python",
   "nbconvert_exporter": "python",
   "pygments_lexer": "ipython3",
   "version": "3.8.7"
  }
 },
 "nbformat": 4,
 "nbformat_minor": 5
}
