{
 "cells": [
  {
   "cell_type": "code",
   "execution_count": 1,
   "metadata": {},
   "outputs": [],
   "source": [
    "import pandas as pd\n",
    "import numpy as np\n",
    "import os\n",
    "\n",
    "DATA_ROOT = os.path.join(os.path.abspath(os.path.join(os.getcwd(), os.pardir)), 'data')\n",
    "NODES = 'nodes_all_raw.csv'\n",
    "\n",
    "TRAIN_NODES = 'X_train.csv'\n",
    "VAL_NODES = 'X_val.csv'\n",
    "TEST_NODES = 'X_test.csv'"
   ]
  },
  {
   "cell_type": "markdown",
   "metadata": {},
   "source": [
    "process all nodes"
   ]
  },
  {
   "cell_type": "code",
   "execution_count": 2,
   "metadata": {},
   "outputs": [],
   "source": [
    "features = ['year_of_study', 'participation', \n",
    "            'pe_percent', 'finals_percent', 'midterms_percent', \n",
    "            'afast', 'level_min_max', 'exp_min_max', \n",
    "            't01_exp', 't02_exp', 't03_exp', 't04_exp', 't05_exp', \n",
    "            't06_exp', 't07_exp', 't08_exp', 't09_exp', \n",
    "            'num_videos', 'avg_videos_completion']"
   ]
  },
  {
   "cell_type": "code",
   "execution_count": 3,
   "metadata": {},
   "outputs": [],
   "source": [
    "train = pd.read_csv(TRAIN_NODES).set_index('name')\n",
    "val = pd.read_csv(VAL_NODES).set_index('name')\n",
    "node_data_test = pd.read_csv(TEST_NODES).set_index('name')\n",
    "node_data_train = pd.concat([train, val])\n",
    "node_data_train['y'] = node_data_train['num_confessed_assignments'].apply(lambda x: 1 if x > 0 else 0)\n",
    "node_data_test['y'] = node_data_test['num_confessed_assignments'].apply(lambda x: 1 if x > 0 else 0)\n",
    "all_node_data = pd.concat([node_data_train, node_data_test])"
   ]
  },
  {
   "cell_type": "code",
   "execution_count": 4,
   "metadata": {},
   "outputs": [],
   "source": [
    "from sklearn.model_selection import train_test_split\n",
    "from sklearn.model_selection import cross_val_score"
   ]
  },
  {
   "cell_type": "code",
   "execution_count": 5,
   "metadata": {},
   "outputs": [
    {
     "name": "stdout",
     "output_type": "stream",
     "text": [
      "131\n",
      "(262, 19) (103, 19)\n"
     ]
    }
   ],
   "source": [
    "train_true = node_data_train[node_data_train['y'] == 1]\n",
    "print(train_true.shape[0])\n",
    "train_false = node_data_train[node_data_train['y'] == 0].sample(n=train_true.shape[0])\n",
    "balanced_node_data = pd.concat([train_true, train_false]).sample(frac=1)\n",
    "X_train, y_train = balanced_node_data[features], balanced_node_data['y']\n",
    "X_test, y_test = node_data_test[features], node_data_test['y']\n",
    "print(X_train.shape, X_test.shape)"
   ]
  },
  {
   "cell_type": "markdown",
   "metadata": {},
   "source": [
    "## Normalization"
   ]
  },
  {
   "cell_type": "code",
   "execution_count": 6,
   "metadata": {},
   "outputs": [],
   "source": [
    "from sklearn.preprocessing import MinMaxScaler\n",
    "normalized = lambda df: pd.DataFrame(MinMaxScaler().fit_transform(df), columns=df.columns, index=df.index)\n",
    "X_train_normalized, X_test_normalized = normalized(X_train), normalized(X_test)"
   ]
  },
  {
   "cell_type": "markdown",
   "metadata": {},
   "source": [
    "## Node Potential\n",
    "### SVM"
   ]
  },
  {
   "cell_type": "code",
   "execution_count": 7,
   "metadata": {},
   "outputs": [],
   "source": [
    "from sklearn.svm import SVC"
   ]
  },
  {
   "cell_type": "code",
   "execution_count": 8,
   "metadata": {},
   "outputs": [
    {
     "name": "stdout",
     "output_type": "stream",
     "text": [
      "svm_1 [0.66037736 0.64150943 0.73076923 0.59615385 0.69230769]\n"
     ]
    }
   ],
   "source": [
    "svm_1 = SVC(kernel='linear', C=1, random_state=42, probability=True)\n",
    "svm_scores_1 = cross_val_score(svm_1, X_train_normalized, y_train, cv=5)\n",
    "print('svm_1', svm_scores_1)"
   ]
  },
  {
   "cell_type": "code",
   "execution_count": 10,
   "metadata": {},
   "outputs": [
    {
     "name": "stdout",
     "output_type": "stream",
     "text": [
      "0.5145631067961165\n"
     ]
    }
   ],
   "source": [
    "node_svm = SVC(kernel='linear', C=1, random_state=42, probability=True) \\\n",
    "    .fit(X_train_normalized, y_train)\n",
    "print(node_svm.score(X_test_normalized, y_test))"
   ]
  },
  {
   "cell_type": "code",
   "execution_count": 39,
   "metadata": {},
   "outputs": [
    {
     "data": {
      "text/plain": [
       "array([[43, 45],\n",
       "       [ 5, 10]], dtype=int64)"
      ]
     },
     "execution_count": 39,
     "metadata": {},
     "output_type": "execute_result"
    }
   ],
   "source": [
    "from sklearn.metrics import confusion_matrix\n",
    "confusion_matrix(y_test, node_svm.predict(X_test_normalized))"
   ]
  },
  {
   "cell_type": "code",
   "execution_count": 12,
   "metadata": {},
   "outputs": [],
   "source": [
    "pred = node_svm.predict_proba(normalized(all_node_data[features]))\n",
    "pred_df = pd.DataFrame(pred, columns=['0', '1'], index=all_node_data.index)\n",
    "pred_df['y_pred'] = node_svm.predict(normalized(all_node_data[features]))\n",
    "pred_df = pred_df.merge(all_node_data['y'], 'inner', 'name')\n",
    "pred_df['y_obs'] = pred_df.apply(lambda row: row['y'] if row.name in node_data_train.index.to_list() else None, axis=1)\n",
    "pred_df.to_csv('svm_node_potential.csv')"
   ]
  },
  {
   "cell_type": "markdown",
   "metadata": {},
   "source": [
    "### GP"
   ]
  },
  {
   "cell_type": "code",
   "execution_count": 13,
   "metadata": {},
   "outputs": [],
   "source": [
    "from sklearn.gaussian_process import GaussianProcessClassifier\n",
    "from sklearn.gaussian_process.kernels import RBF"
   ]
  },
  {
   "cell_type": "code",
   "execution_count": 14,
   "metadata": {},
   "outputs": [
    {
     "name": "stdout",
     "output_type": "stream",
     "text": [
      "gpc_1 [0.69811321 0.52830189 0.67307692 0.59615385 0.61538462]\n"
     ]
    }
   ],
   "source": [
    "kernel = 1.0 * RBF(1.0)\n",
    "gpc_1 = GaussianProcessClassifier(kernel=kernel, random_state=42)\n",
    "gpc_scores = cross_val_score(gpc_1,  X_train_normalized, y_train, cv=5)\n",
    "print('gpc_1', gpc_scores)"
   ]
  },
  {
   "cell_type": "code",
   "execution_count": 15,
   "metadata": {},
   "outputs": [
    {
     "name": "stdout",
     "output_type": "stream",
     "text": [
      "0.6116504854368932\n"
     ]
    }
   ],
   "source": [
    "node_gpc = GaussianProcessClassifier(kernel=kernel, random_state=42) \\\n",
    "    .fit(X_train_normalized, y_train)\n",
    "print(node_gpc.score(X_test_normalized, y_test))"
   ]
  },
  {
   "cell_type": "code",
   "execution_count": 16,
   "metadata": {},
   "outputs": [
    {
     "data": {
      "text/plain": [
       "array([[54, 34],\n",
       "       [ 6,  9]], dtype=int64)"
      ]
     },
     "execution_count": 16,
     "metadata": {},
     "output_type": "execute_result"
    }
   ],
   "source": [
    "from sklearn.metrics import confusion_matrix\n",
    "confusion_matrix(y_test, node_gpc.predict(X_test_normalized))"
   ]
  },
  {
   "cell_type": "code",
   "execution_count": 17,
   "metadata": {},
   "outputs": [],
   "source": [
    "pred = node_gpc.predict_proba(normalized(all_node_data[features]))\n",
    "pred_df = pd.DataFrame(pred, columns=['0', '1'], index=all_node_data.index)\n",
    "pred_df['y_pred'] = node_gpc.predict(normalized(all_node_data[features]))\n",
    "pred_df = pred_df.merge(all_node_data['y'], 'inner', 'name')\n",
    "pred_df['y_obs'] = pred_df.apply(lambda row: row['y'] if row.name in node_data_train.index.to_list() else None, axis=1)\n",
    "pred_df.to_csv('gpc_node_potential.csv')"
   ]
  },
  {
   "cell_type": "markdown",
   "metadata": {},
   "source": [
    "### KNN"
   ]
  },
  {
   "cell_type": "code",
   "execution_count": 18,
   "metadata": {},
   "outputs": [
    {
     "name": "stdout",
     "output_type": "stream",
     "text": [
      "knn_5 [0.58490566 0.45283019 0.63461538 0.61538462 0.61538462]\n",
      "knn_10 [0.62264151 0.60377358 0.65384615 0.53846154 0.65384615]\n",
      "knn_15 [0.60377358 0.66037736 0.63461538 0.63461538 0.57692308]\n"
     ]
    }
   ],
   "source": [
    "from sklearn.neighbors import KNeighborsClassifier\n",
    "\n",
    "knn_5 = KNeighborsClassifier(n_neighbors=5)\n",
    "knn_scores_5 = cross_val_score(knn_5,  X_train_normalized, y_train, cv=5)\n",
    "print('knn_5', knn_scores_5)\n",
    "\n",
    "knn_10 = KNeighborsClassifier(n_neighbors=10)\n",
    "knn_scores_10 = cross_val_score(knn_10,  X_train_normalized, y_train, cv=5)\n",
    "print('knn_10', knn_scores_10)\n",
    "\n",
    "knn_15 = KNeighborsClassifier(n_neighbors=15)\n",
    "knn_scores_15 = cross_val_score(knn_15,  X_train_normalized, y_train, cv=5)\n",
    "print('knn_15', knn_scores_15)"
   ]
  },
  {
   "cell_type": "code",
   "execution_count": 19,
   "metadata": {},
   "outputs": [
    {
     "name": "stdout",
     "output_type": "stream",
     "text": [
      "0.6019417475728155\n"
     ]
    }
   ],
   "source": [
    "node_knn = KNeighborsClassifier(n_neighbors=15).fit( X_train_normalized, y_train)\n",
    "print(node_knn.score(X_test_normalized, y_test))"
   ]
  },
  {
   "cell_type": "code",
   "execution_count": 20,
   "metadata": {},
   "outputs": [
    {
     "data": {
      "text/plain": [
       "0.6019417475728155"
      ]
     },
     "execution_count": 20,
     "metadata": {},
     "output_type": "execute_result"
    }
   ],
   "source": [
    "node_knn.score(X_test_normalized, y_test)"
   ]
  },
  {
   "cell_type": "code",
   "execution_count": 40,
   "metadata": {},
   "outputs": [
    {
     "data": {
      "text/plain": [
       "array([[53, 35],\n",
       "       [ 6,  9]], dtype=int64)"
      ]
     },
     "execution_count": 40,
     "metadata": {},
     "output_type": "execute_result"
    }
   ],
   "source": [
    "from sklearn.metrics import confusion_matrix\n",
    "confusion_matrix(y_test, node_knn.predict(X_test_normalized))"
   ]
  },
  {
   "cell_type": "code",
   "execution_count": 21,
   "metadata": {},
   "outputs": [],
   "source": [
    "pred = node_knn.predict_proba(normalized(all_node_data[features]))\n",
    "pred_df = pd.DataFrame(pred, columns=['0', '1'], index=all_node_data.index)\n",
    "pred_df['y_pred'] = node_knn.predict(normalized(all_node_data[features]))\n",
    "pred_df = pred_df.merge(all_node_data['y'], 'inner', 'name')\n",
    "pred_df['y_obs'] = pred_df.apply(lambda row: row['y'] if row.name in node_data_train.index.to_list() else None, axis=1)\n",
    "pred_df.to_csv('knn_node_potential.csv')"
   ]
  },
  {
   "cell_type": "code",
   "execution_count": 55,
   "metadata": {},
   "outputs": [
    {
     "data": {
      "text/plain": [
       "Text(0.5, 1.0, 'KNN')"
      ]
     },
     "execution_count": 55,
     "metadata": {},
     "output_type": "execute_result"
    },
    {
     "data": {
      "image/png": "[encoded data removed]",
      "text/plain": [
       "<Figure size 432x288 with 1 Axes>"
      ]
     },
     "metadata": {
      "needs_background": "light"
     },
     "output_type": "display_data"
    },
    {
     "data": {
      "image/png": "[encoded data removed]",
      "text/plain": [
       "<Figure size 432x288 with 1 Axes>"
      ]
     },
     "metadata": {
      "needs_background": "light"
     },
     "output_type": "display_data"
    },
    {
     "data": {
      "image/png": "[encoded data removed]",
      "text/plain": [
       "<Figure size 432x288 with 1 Axes>"
      ]
     },
     "metadata": {
      "needs_background": "light"
     },
     "output_type": "display_data"
    }
   ],
   "source": [
    "import matplotlib.pyplot as plt\n",
    "from sklearn.metrics import plot_confusion_matrix\n",
    "\n",
    "disp = plot_confusion_matrix(node_svm, X_test_normalized, y_test,\n",
    "                                 display_labels=['non-cheaters', 'cheaters'],\n",
    "                                 cmap=plt.cm.Blues, values_format='.2%',\n",
    "                                 normalize='true', colorbar=False)\n",
    "disp.ax_.set_title('SVM')\n",
    "disp = plot_confusion_matrix(node_gpc, X_test_normalized, y_test,\n",
    "                                 display_labels=['non-cheaters', 'cheaters'],\n",
    "                                 cmap=plt.cm.Blues, values_format='.2%',\n",
    "                                 normalize='true', colorbar=False)\n",
    "disp.ax_.set_title('GPC')\n",
    "disp = plot_confusion_matrix(node_knn, X_test_normalized, y_test,\n",
    "                                 display_labels=['non-cheaters', 'cheaters'],\n",
    "                                 cmap=plt.cm.Blues, values_format='.2%',\n",
    "                                 normalize='true', colorbar=False)\n",
    "disp.ax_.set_title('KNN')"
   ]
  },
  {
   "cell_type": "markdown",
   "metadata": {},
   "source": [
    "## Edge Potential"
   ]
  },
  {
   "cell_type": "code",
   "execution_count": 22,
   "metadata": {},
   "outputs": [],
   "source": [
    "EDGES_UNIQ = os.path.join(DATA_ROOT, 'uniq_lines_edge_weights.csv')\n",
    "EDGES_MAX = os.path.join(DATA_ROOT, 'max_edge_weights.csv')\n",
    "EDGES_MIN = os.path.join(DATA_ROOT, 'min_edge_weights.csv')\n",
    "EDGES_AVG = os.path.join(DATA_ROOT, 'avg_edge_weights.csv')\n",
    "edges = pd.read_csv(EDGES_MAX)"
   ]
  },
  {
   "cell_type": "code",
   "execution_count": 23,
   "metadata": {},
   "outputs": [
    {
     "data": {
      "text/html": [
       "<div>\n",
       "<style scoped>\n",
       "    .dataframe tbody tr th:only-of-type {\n",
       "        vertical-align: middle;\n",
       "    }\n",
       "\n",
       "    .dataframe tbody tr th {\n",
       "        vertical-align: top;\n",
       "    }\n",
       "\n",
       "    .dataframe thead th {\n",
       "        text-align: right;\n",
       "    }\n",
       "</style>\n",
       "<table border=\"1\" class=\"dataframe\">\n",
       "  <thead>\n",
       "    <tr style=\"text-align: right;\">\n",
       "      <th></th>\n",
       "      <th></th>\n",
       "      <th>edge_weights</th>\n",
       "      <th>y_1</th>\n",
       "      <th>y_2</th>\n",
       "      <th>distance</th>\n",
       "      <th>dot</th>\n",
       "      <th>y</th>\n",
       "      <th>yy</th>\n",
       "    </tr>\n",
       "    <tr>\n",
       "      <th>NodeID1</th>\n",
       "      <th>NodeID2</th>\n",
       "      <th></th>\n",
       "      <th></th>\n",
       "      <th></th>\n",
       "      <th></th>\n",
       "      <th></th>\n",
       "      <th></th>\n",
       "      <th></th>\n",
       "    </tr>\n",
       "  </thead>\n",
       "  <tbody>\n",
       "    <tr>\n",
       "      <th>aaron_christian</th>\n",
       "      <th>marc_key</th>\n",
       "      <td>0.011343</td>\n",
       "      <td>1</td>\n",
       "      <td>1</td>\n",
       "      <td>1.133242</td>\n",
       "      <td>8.054074</td>\n",
       "      <td>2</td>\n",
       "      <td>11</td>\n",
       "    </tr>\n",
       "    <tr>\n",
       "      <th>david_atkinson</th>\n",
       "      <th>marc_key</th>\n",
       "      <td>0.017403</td>\n",
       "      <td>1</td>\n",
       "      <td>1</td>\n",
       "      <td>0.700736</td>\n",
       "      <td>8.117675</td>\n",
       "      <td>2</td>\n",
       "      <td>11</td>\n",
       "    </tr>\n",
       "    <tr>\n",
       "      <th>grace_roberts</th>\n",
       "      <th>marc_key</th>\n",
       "      <td>0.009837</td>\n",
       "      <td>0</td>\n",
       "      <td>1</td>\n",
       "      <td>0.840199</td>\n",
       "      <td>8.953398</td>\n",
       "      <td>1</td>\n",
       "      <td>01</td>\n",
       "    </tr>\n",
       "    <tr>\n",
       "      <th>james_black</th>\n",
       "      <th>marc_key</th>\n",
       "      <td>0.017092</td>\n",
       "      <td>0</td>\n",
       "      <td>1</td>\n",
       "      <td>0.766260</td>\n",
       "      <td>9.565469</td>\n",
       "      <td>1</td>\n",
       "      <td>01</td>\n",
       "    </tr>\n",
       "    <tr>\n",
       "      <th>john_stewart</th>\n",
       "      <th>marc_key</th>\n",
       "      <td>0.017520</td>\n",
       "      <td>0</td>\n",
       "      <td>1</td>\n",
       "      <td>0.562269</td>\n",
       "      <td>9.125641</td>\n",
       "      <td>1</td>\n",
       "      <td>01</td>\n",
       "    </tr>\n",
       "    <tr>\n",
       "      <th>...</th>\n",
       "      <th>...</th>\n",
       "      <td>...</td>\n",
       "      <td>...</td>\n",
       "      <td>...</td>\n",
       "      <td>...</td>\n",
       "      <td>...</td>\n",
       "      <td>...</td>\n",
       "      <td>...</td>\n",
       "    </tr>\n",
       "    <tr>\n",
       "      <th>william_marks</th>\n",
       "      <th>caitlin_rodriguez</th>\n",
       "      <td>0.009006</td>\n",
       "      <td>0</td>\n",
       "      <td>0</td>\n",
       "      <td>1.521762</td>\n",
       "      <td>7.440076</td>\n",
       "      <td>0</td>\n",
       "      <td>00</td>\n",
       "    </tr>\n",
       "    <tr>\n",
       "      <th>william_meyers</th>\n",
       "      <th>dominique_shaffer</th>\n",
       "      <td>0.020980</td>\n",
       "      <td>0</td>\n",
       "      <td>1</td>\n",
       "      <td>1.497580</td>\n",
       "      <td>5.412665</td>\n",
       "      <td>1</td>\n",
       "      <td>01</td>\n",
       "    </tr>\n",
       "    <tr>\n",
       "      <th>william_moreno</th>\n",
       "      <th>sheila_medina</th>\n",
       "      <td>0.014044</td>\n",
       "      <td>1</td>\n",
       "      <td>0</td>\n",
       "      <td>1.964118</td>\n",
       "      <td>6.255026</td>\n",
       "      <td>1</td>\n",
       "      <td>10</td>\n",
       "    </tr>\n",
       "    <tr>\n",
       "      <th>zachary_beasley</th>\n",
       "      <th>robert_lopez</th>\n",
       "      <td>0.008762</td>\n",
       "      <td>0</td>\n",
       "      <td>1</td>\n",
       "      <td>1.181525</td>\n",
       "      <td>8.173765</td>\n",
       "      <td>1</td>\n",
       "      <td>01</td>\n",
       "    </tr>\n",
       "    <tr>\n",
       "      <th>zachary_hernandez</th>\n",
       "      <th>denise_brooks</th>\n",
       "      <td>0.012754</td>\n",
       "      <td>0</td>\n",
       "      <td>0</td>\n",
       "      <td>2.443623</td>\n",
       "      <td>4.145555</td>\n",
       "      <td>0</td>\n",
       "      <td>00</td>\n",
       "    </tr>\n",
       "  </tbody>\n",
       "</table>\n",
       "<p>2736 rows × 7 columns</p>\n",
       "</div>"
      ],
      "text/plain": [
       "                                     edge_weights  y_1  y_2  distance  \\\n",
       "NodeID1           NodeID2                                               \n",
       "aaron_christian   marc_key               0.011343    1    1  1.133242   \n",
       "david_atkinson    marc_key               0.017403    1    1  0.700736   \n",
       "grace_roberts     marc_key               0.009837    0    1  0.840199   \n",
       "james_black       marc_key               0.017092    0    1  0.766260   \n",
       "john_stewart      marc_key               0.017520    0    1  0.562269   \n",
       "...                                           ...  ...  ...       ...   \n",
       "william_marks     caitlin_rodriguez      0.009006    0    0  1.521762   \n",
       "william_meyers    dominique_shaffer      0.020980    0    1  1.497580   \n",
       "william_moreno    sheila_medina          0.014044    1    0  1.964118   \n",
       "zachary_beasley   robert_lopez           0.008762    0    1  1.181525   \n",
       "zachary_hernandez denise_brooks          0.012754    0    0  2.443623   \n",
       "\n",
       "                                          dot  y  yy  \n",
       "NodeID1           NodeID2                             \n",
       "aaron_christian   marc_key           8.054074  2  11  \n",
       "david_atkinson    marc_key           8.117675  2  11  \n",
       "grace_roberts     marc_key           8.953398  1  01  \n",
       "james_black       marc_key           9.565469  1  01  \n",
       "john_stewart      marc_key           9.125641  1  01  \n",
       "...                                       ... ..  ..  \n",
       "william_marks     caitlin_rodriguez  7.440076  0  00  \n",
       "william_meyers    dominique_shaffer  5.412665  1  01  \n",
       "william_moreno    sheila_medina      6.255026  1  10  \n",
       "zachary_beasley   robert_lopez       8.173765  1  01  \n",
       "zachary_hernandez denise_brooks      4.145555  0  00  \n",
       "\n",
       "[2736 rows x 7 columns]"
      ]
     },
     "execution_count": 23,
     "metadata": {},
     "output_type": "execute_result"
    }
   ],
   "source": [
    "edge_data = edges.merge(all_node_data[['node_name', 'y']], how='left', left_on='NodeID1', right_on='node_name') \\\n",
    "                    .rename(columns={'y': 'y_1'})\n",
    "\n",
    "edge_data = edge_data.merge(all_node_data[['node_name', 'y']], how='left', left_on='NodeID2', right_on='node_name') \\\n",
    "                    .rename(columns={'y': 'y_2'}).drop(['node_name_x', 'node_name_y'], axis=1)\n",
    "\n",
    "def get_distance(node_name_1, node_name_2, df, features):\n",
    "    return np.linalg.norm(df.loc[node_name_1][features] - df.loc[node_name_2][features])\n",
    "\n",
    "def get_dot(node_name_1, node_name_2, df, features):\n",
    "    return np.dot(df.loc[node_name_1][features], df.loc[node_name_2][features])\n",
    "\n",
    "edge_data['distance'] = edge_data.apply(lambda row: get_distance(row['NodeID1'], row['NodeID2'], normalized(all_node_data[features]), features), axis=1)\n",
    "edge_data['dot'] = edge_data.apply(lambda row: get_dot(row['NodeID1'], row['NodeID2'], normalized(all_node_data[features]), features), axis=1)\n",
    "\n",
    "edge_data['y'] = edge_data.apply(lambda row: row['y_1'] + row['y_2'], axis=1)\n",
    "edge_data['yy'] = edge_data.apply(lambda row: str(row['y_1']) + str(row['y_2']), axis=1)\n",
    "\n",
    "edge_train = edge_data.merge(node_data_train[['node_name']], how='inner', left_on='NodeID1', right_on='node_name')[edge_data.columns]\n",
    "edge_train = edge_train.merge(node_data_train[['node_name']], how='inner', left_on='NodeID2', right_on='node_name')[edge_data.columns]\n",
    "\n",
    "edge_data = edge_data.set_index(['NodeID1', 'NodeID2'])\n",
    "edge_train = edge_train.set_index(['NodeID1', 'NodeID2'])\n",
    "\n",
    "edge_train"
   ]
  },
  {
   "cell_type": "code",
   "execution_count": 24,
   "metadata": {},
   "outputs": [
    {
     "name": "stdout",
     "output_type": "stream",
     "text": [
      "(255, 3) (255,) 1.0\n"
     ]
    }
   ],
   "source": [
    "min_count = edge_train['y'].value_counts().min()\n",
    "edge_data_0 = edge_train[edge_train['y'] == 0].sample(n=min_count)\n",
    "edge_data_1 = edge_train[edge_train['y'] == 1].sample(n=min_count)\n",
    "edge_data_2 = edge_train[edge_train['y'] == 2].sample(n=min_count)\n",
    "\n",
    "balanced_edge_data = pd.concat([edge_data_0, edge_data_1, edge_data_2]).sample(frac=1)\n",
    "\n",
    "edge_features = ['edge_weights', 'distance', 'dot']\n",
    "edge_X, edge_y = balanced_edge_data[edge_features], balanced_edge_data['y']\n",
    "print(edge_X.shape, edge_y.shape, edge_y.mean())"
   ]
  },
  {
   "cell_type": "markdown",
   "metadata": {},
   "source": [
    "### SVM"
   ]
  },
  {
   "cell_type": "code",
   "execution_count": 66,
   "metadata": {},
   "outputs": [],
   "source": [
    "edge_svm = SVC(kernel='linear', C=1, random_state=42, probability=True) \\\n",
    "    .fit(edge_X, edge_y)"
   ]
  },
  {
   "cell_type": "code",
   "execution_count": 67,
   "metadata": {},
   "outputs": [],
   "source": [
    "pred = edge_svm.predict_proba(edge_data[edge_features])\n",
    "pred_df = pd.DataFrame(pred, columns=['0', '1', '2'], index=edge_data.index)\n",
    "pred_df.to_csv('svm_edge_potential.csv')"
   ]
  },
  {
   "cell_type": "markdown",
   "metadata": {},
   "source": [
    "### GP"
   ]
  },
  {
   "cell_type": "code",
   "execution_count": 25,
   "metadata": {},
   "outputs": [
    {
     "name": "stdout",
     "output_type": "stream",
     "text": [
      "gpc_1 [0.41176471 0.49019608 0.41176471 0.52941176 0.43137255]\n"
     ]
    }
   ],
   "source": [
    "kernel = 1.0 * RBF(1.0)\n",
    "gpc_1 = GaussianProcessClassifier(kernel=kernel, random_state=42)\n",
    "gpc_scores = cross_val_score(gpc_1, edge_X, edge_y, cv=5)\n",
    "print('gpc_1', gpc_scores)"
   ]
  },
  {
   "cell_type": "code",
   "execution_count": 26,
   "metadata": {},
   "outputs": [
    {
     "name": "stdout",
     "output_type": "stream",
     "text": [
      "0.4452317685267198\n"
     ]
    }
   ],
   "source": [
    "gpc = GaussianProcessClassifier(kernel=kernel, random_state=42).fit(edge_X, edge_y)\n",
    "print(gpc.score(edge_data[edge_features], edge_data['y']))"
   ]
  },
  {
   "cell_type": "code",
   "execution_count": 27,
   "metadata": {},
   "outputs": [],
   "source": [
    "pred = gpc.predict_proba(edge_data[edge_features])\n",
    "pred_df = pd.DataFrame(pred, columns=['0', '1', '2'], index=edge_data.index)\n",
    "pred_df.to_csv('gpc_edge_potential.csv')"
   ]
  },
  {
   "cell_type": "markdown",
   "metadata": {},
   "source": [
    "### KNN"
   ]
  },
  {
   "cell_type": "code",
   "execution_count": 28,
   "metadata": {},
   "outputs": [
    {
     "name": "stdout",
     "output_type": "stream",
     "text": [
      "knn_5 [0.43137255 0.43137255 0.23529412 0.47058824 0.41176471]\n",
      "knn_10 [0.35294118 0.41176471 0.33333333 0.49019608 0.47058824]\n",
      "knn_15 [0.37254902 0.52941176 0.41176471 0.52941176 0.50980392]\n"
     ]
    }
   ],
   "source": [
    "edge_knn_5 = KNeighborsClassifier(n_neighbors=5)\n",
    "edge_knn_scores_5 = cross_val_score(edge_knn_5, edge_X, edge_y, cv=5)\n",
    "print('knn_5', edge_knn_scores_5)\n",
    "\n",
    "edge_knn_10 = KNeighborsClassifier(n_neighbors=10)\n",
    "edge_knn_scores_10 = cross_val_score(edge_knn_10, edge_X, edge_y, cv=5)\n",
    "print('knn_10', edge_knn_scores_10)\n",
    "\n",
    "edge_knn_15 = KNeighborsClassifier(n_neighbors=15)\n",
    "edge_knn_scores_15 = cross_val_score(knn_15, edge_X, edge_y, cv=5)\n",
    "print('knn_15', edge_knn_scores_15)"
   ]
  },
  {
   "cell_type": "code",
   "execution_count": 29,
   "metadata": {},
   "outputs": [
    {
     "name": "stdout",
     "output_type": "stream",
     "text": [
      "0.44936521995866546\n"
     ]
    }
   ],
   "source": [
    "edge_knn = KNeighborsClassifier(n_neighbors=15).fit(edge_X, edge_y)\n",
    "print(edge_knn.score(edge_data[edge_features], edge_data['y']))"
   ]
  },
  {
   "cell_type": "code",
   "execution_count": 30,
   "metadata": {},
   "outputs": [],
   "source": [
    "pred = edge_knn.predict_proba(edge_data[edge_features])\n",
    "pred_df = pd.DataFrame(pred, columns=['0', '1', '2'], index=edge_data.index)\n",
    "pred_df.to_csv('knn_edge_potential.csv')"
   ]
  },
  {
   "cell_type": "markdown",
   "metadata": {},
   "source": [
    "## Run main"
   ]
  },
  {
   "cell_type": "code",
   "execution_count": 73,
   "metadata": {},
   "outputs": [],
   "source": [
    "node_type, edge_type = 'gpc', 'svm'\n",
    "marginals = pd.read_csv('%s_%s_marginals.csv' % (node_type, edge_type))\n",
    "marginals = marginals.merge(all_node_data[['node_name', 'y']], 'left', left_on='name', right_on='node_name')\n",
    "\n",
    "obs = pd.read_csv('%s_node_potential.csv' % node_type)[['name', 'y_obs']]\n",
    "marginals = marginals.merge(obs, 'left', 'name')\n",
    "\n",
    "marginals[['name', 'y_pred', 'y_obs', 'y']] \\\n",
    "    .sort_values(['y_pred', 'y_obs', 'y'], ascending=[False, False, False]) \\\n",
    "    .to_csv('%s_%s_results.csv' % (node_type, edge_type), index=False)"
   ]
  },
  {
   "cell_type": "code",
   "execution_count": 74,
   "metadata": {},
   "outputs": [
    {
     "data": {
      "text/plain": [
       "array([[87,  1],\n",
       "       [15,  0]], dtype=int64)"
      ]
     },
     "execution_count": 74,
     "metadata": {},
     "output_type": "execute_result"
    }
   ],
   "source": [
    "test_results = marginals[marginals['y_obs'].isnull()]\n",
    "confusion_matrix(test_results['y'], [1 if y > 0.5 else 0 for y in test_results['y_pred']])"
   ]
  },
  {
   "cell_type": "code",
   "execution_count": null,
   "metadata": {},
   "outputs": [],
   "source": []
  }
 ],
 "metadata": {
  "kernelspec": {
   "display_name": "Python 3",
   "language": "python",
   "name": "python3"
  },
  "language_info": {
   "codemirror_mode": {
    "name": "ipython",
    "version": 3
   },
   "file_extension": ".py",
   "mimetype": "text/x-python",
   "name": "python",
   "nbconvert_exporter": "python",
   "pygments_lexer": "ipython3",
   "version": "3.8.5"
  }
 },
 "nbformat": 4,
 "nbformat_minor": 4
}
